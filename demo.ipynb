{
 "cells": [
  {
   "cell_type": "code",
   "execution_count": 1,
   "metadata": {},
   "outputs": [],
   "source": [
    "from mpl_px_layout import make_fixed_pixel_size_axes"
   ]
  },
  {
   "cell_type": "markdown",
   "metadata": {},
   "source": [
    "**You can make figures with arbitrary layouts.**"
   ]
  },
  {
   "cell_type": "code",
   "execution_count": 2,
   "metadata": {},
   "outputs": [
    {
     "data": {
      "image/png": "[encoded data removed]",
      "text/plain": [
       "<Figure size 260x240 with 4 Axes>"
      ]
     },
     "metadata": {},
     "output_type": "display_data"
    }
   ],
   "source": [
    "ax_list, fig = make_fixed_pixel_size_axes(\n",
    "    fig_dpi=100,\n",
    "    ax_w_px=[[50, 100], [100, 20]],\n",
    "    ax_h_px=[[65, 30], [90, 15]],\n",
    "    ax_w_margin_px=[[10], [10]],\n",
    "    ax_h_margin_px=[[45], [35]],\n",
    "    off_index=[],\n",
    "    preview=True,\n",
    "    verbose=False\n",
    ")"
   ]
  },
  {
   "cell_type": "code",
   "execution_count": 12,
   "metadata": {},
   "outputs": [
    {
     "data": {
      "image/png": "[encoded data removed]",
      "text/plain": [
       "<Figure size 260x240 with 5 Axes>"
      ]
     },
     "metadata": {},
     "output_type": "display_data"
    }
   ],
   "source": [
    "ax_list, fig = make_fixed_pixel_size_axes(\n",
    "    fig_dpi=100,\n",
    "    ax_w_px=[[50, 90, 0], [10, 10, 10]],\n",
    "    ax_h_px=[[80, 15], [110, 30], [0, 45]],\n",
    "    ax_w_margin_px=[[20, 0], [10, 10]],\n",
    "    ax_h_margin_px=[[15], [-15], [95]],\n",
    "    off_index=[],\n",
    "    preview=True,\n",
    "    verbose=False\n",
    ")"
   ]
  },
  {
   "cell_type": "code",
   "execution_count": 6,
   "metadata": {},
   "outputs": [
    {
     "data": {
      "image/png": "[encoded data removed]",
      "text/plain": [
       "<Figure size 260x240 with 12 Axes>"
      ]
     },
     "metadata": {},
     "output_type": "display_data"
    }
   ],
   "source": [
    "ax_list, fig = make_fixed_pixel_size_axes(\n",
    "    fig_dpi=100,\n",
    "    ax_w_px=[[40, 80, 0, 0, 0], [10, 70, 10, 10, 20], [40, 60, 10, 10, 0], [30, 0, 0, 0, 0]],\n",
    "    ax_h_px=[[30, 60, 10, 10], [30, 60, 30, 0], [0, 20, 30, 0], [0, 40, 50, 0], [0, 140, 0, 0]],\n",
    "    ax_w_margin_px=[[10, 0, 0, 0], [10, 10, 10, 10], [10, -10, 10, 0], [0, 0, 0, 0]],\n",
    "    ax_h_margin_px=[[10, 10, 10], [10, 10, 0], [40, 10, 0], [40, 10, 0], [0, 0, 0]],\n",
    "    off_index=[],\n",
    "    preview=True,\n",
    "    verbose=False\n",
    ")"
   ]
  },
  {
   "cell_type": "markdown",
   "metadata": {},
   "source": [
    "**It is possible to change some Axes to not draw.**"
   ]
  },
  {
   "cell_type": "code",
   "execution_count": 4,
   "metadata": {},
   "outputs": [
    {
     "data": {
      "image/png": "[encoded data removed]",
      "text/plain": [
       "<Figure size 260x240 with 3 Axes>"
      ]
     },
     "metadata": {},
     "output_type": "display_data"
    }
   ],
   "source": [
    "ax_list, fig = make_fixed_pixel_size_axes(\n",
    "    fig_dpi=100,\n",
    "    ax_w_px=[[50, 100], [100, 20]],\n",
    "    ax_h_px=[[65, 30], [90, 15]],\n",
    "    ax_w_margin_px=[[10], [10]],\n",
    "    ax_h_margin_px=[[45], [35]],\n",
    "    off_index=[(1, 0)],\n",
    "    preview=True,\n",
    "    verbose=False\n",
    ")"
   ]
  },
  {
   "cell_type": "code",
   "execution_count": 5,
   "metadata": {},
   "outputs": [
    {
     "data": {
      "image/png": "[encoded data removed]",
      "text/plain": [
       "<Figure size 260x240 with 3 Axes>"
      ]
     },
     "metadata": {},
     "output_type": "display_data"
    }
   ],
   "source": [
    "ax_list, fig = make_fixed_pixel_size_axes(\n",
    "    fig_dpi=100,\n",
    "    ax_w_px=[[50, 90, 0], [10, 10, 10]],\n",
    "    ax_h_px=[[80, 15], [110, 30], [0, 45]],\n",
    "    ax_w_margin_px=[[20, 0], [10, 10]],\n",
    "    ax_h_margin_px=[[15], [-15], [95]],\n",
    "    off_index=[(0, 0), (1, 1)],\n",
    "    preview=True,\n",
    "    verbose=False\n",
    ")"
   ]
  },
  {
   "cell_type": "code",
   "execution_count": 6,
   "metadata": {},
   "outputs": [
    {
     "data": {
      "image/png": "[encoded data removed]",
      "text/plain": [
       "<Figure size 260x240 with 9 Axes>"
      ]
     },
     "metadata": {},
     "output_type": "display_data"
    }
   ],
   "source": [
    "ax_list, fig = make_fixed_pixel_size_axes(\n",
    "    fig_dpi=100,\n",
    "    ax_w_px=[[40, 80, 0, 0, 0], [10, 70, 10, 10, 20], [40, 60, 10, 10, 0], [30, 0, 0, 0, 0]],\n",
    "    ax_h_px=[[30, 60, 10, 10], [30, 60, 30, 0], [0, 20, 30, 0], [0, 40, 50, 0], [0, 140, 0, 0]],\n",
    "    ax_w_margin_px=[[10, 0, 0, 0], [10, 10, 10, 10], [10, -10, 10, 0], [0, 0, 0, 0]],\n",
    "    ax_h_margin_px=[[10, 10, 10], [10, 10, 0], [40, 10, 0], [40, 10, 0], [0, 0, 0]],\n",
    "    off_index=[(0, 3), (1, 1), (2, 1)],\n",
    "    preview=True,\n",
    "    verbose=False\n",
    ")"
   ]
  },
  {
   "cell_type": "markdown",
   "metadata": {},
   "source": [
    "**Detailed behavior can also be checked by setting `verbose` to True.**"
   ]
  },
  {
   "cell_type": "code",
   "execution_count": 7,
   "metadata": {},
   "outputs": [
    {
     "name": "stderr",
     "output_type": "stream",
     "text": [
      "[DEBUG] - tile_w: [0, 50, 10, 40, 10, 20, 30]\n",
      "[DEBUG] - tile_h: [0, 65, 25, 20, 15, 15]\n",
      "\n",
      "[DEBUG] - ####### (row, column) = (0, 0) ############################\n",
      "[DEBUG] - ### width ###########\n",
      "[DEBUG] - ### Tile ###\n",
      "[DEBUG] - curr_ax:    50\n",
      "[DEBUG] - Looped to index=    0 in [50, 10, 40, 10, 20, 30]\n",
      "[DEBUG] - ### Margin ###\n",
      "[DEBUG] - next_margin:    10\n",
      "[DEBUG] - Looped to index=    0 in [10, 40, 10, 20, 30]\n",
      "[DEBUG] - curr_pos -> next_pos(= curr_pos  + used_tile + skip_tile)\n",
      "[DEBUG] -    1     ->    3    (=     1     +     1     +     1    )\n",
      "\n",
      "[DEBUG] - ### height ###########\n",
      "[DEBUG] - ### Tile ###\n",
      "[DEBUG] - curr_ax:    65\n",
      "[DEBUG] - Looped to index=    0 in [65, 25, 20, 15, 15]\n",
      "[DEBUG] - ### Margin ###\n",
      "[DEBUG] - next_margin:    45\n",
      "[DEBUG] - Looped to index=    1 in [25, 20, 15, 15]\n",
      "[DEBUG] - curr_pos -> next_pos(= curr_pos  + used_tile + skip_tile)\n",
      "[DEBUG] -    1     ->    4    (=     1     +     1     +     2    )\n",
      "\n",
      "[DEBUG] - ####### (row, column) = (0, 1) ############################\n",
      "[DEBUG] - ### width ###########\n",
      "[DEBUG] - ### Tile ###\n",
      "[DEBUG] - curr_ax:   100\n",
      "[DEBUG] - Looped to index=    3 in [40, 10, 20, 30]\n",
      "[DEBUG] - ### Margin ###\n",
      "[DEBUG] - next_margin:     0\n",
      "[DEBUG] - curr_pos -> next_pos(= curr_pos  + used_tile + skip_tile)\n",
      "[DEBUG] -    3     ->    7    (=     3     +     4     +     0    )\n",
      "\n",
      "[DEBUG] - ### height ###########\n",
      "[DEBUG] - ### Tile ###\n",
      "[DEBUG] - curr_ax:    90\n",
      "[DEBUG] - Looped to index=    1 in [65, 25, 20, 15, 15]\n",
      "[DEBUG] - ### Margin ###\n",
      "[DEBUG] - next_margin:    35\n",
      "[DEBUG] - Looped to index=    1 in [20, 15, 15]\n",
      "[DEBUG] - curr_pos -> next_pos(= curr_pos  + used_tile + skip_tile)\n",
      "[DEBUG] -    1     ->    5    (=     1     +     2     +     2    )\n",
      "\n",
      "[DEBUG] - ####### (row, column) = (1, 0) ############################\n",
      "[DEBUG] - ### width ###########\n",
      "[DEBUG] - ### Tile ###\n",
      "[DEBUG] - curr_ax:   100\n",
      "[DEBUG] - Looped to index=    2 in [50, 10, 40, 10, 20, 30]\n",
      "[DEBUG] - ### Margin ###\n",
      "[DEBUG] - next_margin:    10\n",
      "[DEBUG] - Looped to index=    0 in [10, 20, 30]\n",
      "[DEBUG] - curr_pos -> next_pos(= curr_pos  + used_tile + skip_tile)\n",
      "[DEBUG] -    1     ->    5    (=     1     +     3     +     1    )\n",
      "\n",
      "[DEBUG] - ### height ###########\n",
      "[DEBUG] - ### Tile ###\n",
      "[DEBUG] - curr_ax:    30\n",
      "[DEBUG] - Looped to index=    1 in [15, 15]\n",
      "[DEBUG] - ### Margin ###\n",
      "[DEBUG] - next_margin:     0\n",
      "[DEBUG] - curr_pos -> next_pos(= curr_pos  + used_tile + skip_tile)\n",
      "[DEBUG] -    4     ->    6    (=     4     +     2     +     0    )\n",
      "\n",
      "[DEBUG] - ####### (row, column) = (1, 1) ############################\n",
      "[DEBUG] - ### width ###########\n",
      "[DEBUG] - ### Tile ###\n",
      "[DEBUG] - curr_ax:    20\n",
      "[DEBUG] - Looped to index=    0 in [20, 30]\n",
      "[DEBUG] - ### Margin ###\n",
      "[DEBUG] - next_margin:     0\n",
      "[DEBUG] - Looped to index=    0 in [30]\n",
      "[DEBUG] - curr_pos -> next_pos(= curr_pos  + used_tile + skip_tile)\n",
      "[DEBUG] -    5     ->    6    (=     5     +     1     +     0    )\n",
      "\n",
      "[DEBUG] - ### height ###########\n",
      "[DEBUG] - ### Tile ###\n",
      "[DEBUG] - curr_ax:    15\n",
      "[DEBUG] - Looped to index=    0 in [15]\n",
      "[DEBUG] - ### Margin ###\n",
      "[DEBUG] - next_margin:     0\n",
      "[DEBUG] - curr_pos -> next_pos(= curr_pos  + used_tile + skip_tile)\n",
      "[DEBUG] -    5     ->    6    (=     5     +     1     +     0    )\n",
      "\n"
     ]
    },
    {
     "data": {
      "image/png": "[encoded data removed]",
      "text/plain": [
       "<Figure size 260x240 with 4 Axes>"
      ]
     },
     "metadata": {},
     "output_type": "display_data"
    }
   ],
   "source": [
    "ax_list, fig = make_fixed_pixel_size_axes(\n",
    "    fig_dpi=100,\n",
    "    ax_w_px=[[50, 100], [100, 20]],\n",
    "    ax_h_px=[[65, 30], [90, 15]],\n",
    "    ax_w_margin_px=[[10], [10]],\n",
    "    ax_h_margin_px=[[45], [35]],\n",
    "    off_index=[],\n",
    "    preview=True,\n",
    "    verbose=True\n",
    ")"
   ]
  },
  {
   "cell_type": "code",
   "execution_count": null,
   "metadata": {},
   "outputs": [],
   "source": []
  }
 ],
 "metadata": {
  "interpreter": {
   "hash": "df0893f56f349688326838aaeea0de204df53a132722cbd565e54b24a8fec5f6"
  },
  "kernelspec": {
   "display_name": "Python 3.8.13 64-bit",
   "language": "python",
   "name": "python3"
  },
  "language_info": {
   "codemirror_mode": {
    "name": "ipython",
    "version": 3
   },
   "file_extension": ".py",
   "mimetype": "text/x-python",
   "name": "python",
   "nbconvert_exporter": "python",
   "pygments_lexer": "ipython3",
   "version": "3.8.13"
  },
  "orig_nbformat": 4
 },
 "nbformat": 4,
 "nbformat_minor": 2
}
